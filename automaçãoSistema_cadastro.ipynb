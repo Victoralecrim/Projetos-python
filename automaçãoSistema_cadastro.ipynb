{
 "cells": [
  {
   "cell_type": "code",
   "execution_count": 23,
   "metadata": {},
   "outputs": [],
   "source": [
    "#Automatizando um sistema de cadastro\n",
    "#1-Importando as bibliotecas necessarias \n",
    "import pyautogui\n",
    "from time import sleep\n",
    "\n",
    "#1- Clicar e digitar meu usuario \n",
    "pyautogui.click(968,541,duration=2)\n",
    "pyautogui.write('jhonatan')\n",
    "#2- Clicar e digitar minha senha\n",
    "pyautogui.click(971,567,duration=2)\n",
    "pyautogui.write('123456')  \n",
    "#2-Clicar em entrar\n",
    "pyautogui.click(868,594,duration=2)\n",
    "#3-Extrair cada produto\n",
    "with open('produtos.txt', 'r') as arquivos:\n",
    "   for linha in arquivos:\n",
    "      produto = linha.split(',')[0]\n",
    "      quantidade = linha.split(',')[1]\n",
    "      preco = linha.split(',')[2]\n",
    "   #1-  Clicar e digitar produto\n",
    "   pyautogui.click(686,527,duration=2)\n",
    "   pyautogui.write(produto)\n",
    "   #2 - Clicar e digitar a quantidade\n",
    "   pyautogui.click(686,553,duration=2)\n",
    "   pyautogui.write(quantidade)\n",
    "   #3 - Clicar e digitar o preço\n",
    "   pyautogui.click(689,581,duration=2)\n",
    "   pyautogui.write(preco)\n",
    "   #4 - Clicar em registrar\n",
    "   pyautogui.click(587,732,duration=1)\n",
    "   #5 - Clicar em fechar aplicação\n",
    "   pyautogui.click(667,733,duration=1)\n",
    "   \n",
    "\n"
   ]
  }
 ],
 "metadata": {
  "kernelspec": {
   "display_name": "Python 3.11.6 ('.venv': venv)",
   "language": "python",
   "name": "python3"
  },
  "language_info": {
   "codemirror_mode": {
    "name": "ipython",
    "version": 3
   },
   "file_extension": ".py",
   "mimetype": "text/x-python",
   "name": "python",
   "nbconvert_exporter": "python",
   "pygments_lexer": "ipython3",
   "version": "3.11.6"
  },
  "orig_nbformat": 4,
  "vscode": {
   "interpreter": {
    "hash": "97c569e12335afd234e5e5cf4752eb32e92ede7faa75ee252f5abba7b0955c56"
   }
  }
 },
 "nbformat": 4,
 "nbformat_minor": 2
}
